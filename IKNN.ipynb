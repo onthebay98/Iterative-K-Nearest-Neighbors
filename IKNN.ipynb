{
 "cells": [
  {
   "cell_type": "markdown",
   "id": "c375a000-2f89-45e9-98de-b9eab054b8f5",
   "metadata": {},
   "source": [
    "This model comes from the IKNN algorithm, detailed in pages 5-9 here:\n",
    "https://arxiv.org/pdf/2002.10709.pdf"
   ]
  },
  {
   "cell_type": "markdown",
   "id": "85917c58-5cc8-4ef7-8063-8e792ffc98e2",
   "metadata": {
    "tags": []
   },
   "source": [
    "In brief, the HEOM metric is designed to determine the distance between rows, which helps us determine the rows that are most similar to each other - i.e., the nearest neighbors. Once the nearest neighbors are determined, we use the weights to give preference to the rows that are most similar. Then, we take a mean/mode of the neighbors, adjusted by these weights, to determine the value to be imputed for a given missing value. In short, our code does this for every missing value, iterating through our dataset one row at a time, until the error is sufficiently small."
   ]
  },
  {
   "cell_type": "markdown",
   "id": "4574a5f4-d9d3-496e-aefb-b9d721f5daa7",
   "metadata": {},
   "source": [
    "Below, we test the algorithm on the titanic dataset from Kaggle: https://www.kaggle.com/c/titanic/data"
   ]
  },
  {
   "cell_type": "code",
   "execution_count": 45,
   "id": "0b71a2a3-4809-41d3-b605-20542b4e1e65",
   "metadata": {
    "tags": []
   },
   "outputs": [],
   "source": [
    "import numpy as np\n",
    "import pandas as pd\n",
    "import math\n",
    "import heapq\n",
    "pd.set_option('display.max_columns', None)\n",
    "import matplotlib.pyplot as plt"
   ]
  },
  {
   "cell_type": "code",
   "execution_count": 46,
   "id": "eb1f1128-f651-4989-8912-9b8a4c1bfe06",
   "metadata": {
    "tags": []
   },
   "outputs": [],
   "source": [
    "# to avoid data leakage, we impute on our train and test data sets separately\n",
    "# here, we only impute on the train set for convenience\n",
    "train = pd.read_csv('train.csv')\n",
    "train_copy = train.copy()\n",
    "test = pd.read_csv('test.csv')"
   ]
  },
  {
   "cell_type": "code",
   "execution_count": 47,
   "id": "4901f5a0-c894-4d4a-a388-19bb191e131d",
   "metadata": {},
   "outputs": [],
   "source": [
    "outcome = 'Survived'"
   ]
  },
  {
   "cell_type": "code",
   "execution_count": 48,
   "id": "326e34cd-2555-441d-94e6-74be85201bc5",
   "metadata": {},
   "outputs": [],
   "source": [
    "# drop because we there are too many missing - we can't reasonably impute values using the current method\n",
    "train = train.drop(columns='Cabin')\n",
    "test = test.drop(columns='Cabin')"
   ]
  },
  {
   "cell_type": "code",
   "execution_count": 49,
   "id": "7ce3bb7a-399d-470f-a166-953dfc8937c2",
   "metadata": {},
   "outputs": [],
   "source": [
    "# separate continuous and categorical columns\n",
    "categorical = ['Name', 'Sex', 'Ticket', 'Embarked','PassengerId', 'Pclass', 'SibSp', 'Parch']\n",
    "continuous = ['Age','Fare']"
   ]
  },
  {
   "cell_type": "code",
   "execution_count": 50,
   "id": "42260ee7-02ab-4b17-a684-18b3ca7c35db",
   "metadata": {},
   "outputs": [],
   "source": [
    "cols = list(train.columns.values) # make a list of all of the columns in the train\n",
    "cols.pop(cols.index(outcome)) # remove outcome\n",
    "train = train[cols+[outcome]] # create new dataframe with columns in the order you want"
   ]
  },
  {
   "cell_type": "code",
   "execution_count": 51,
   "id": "cd6709b2-3433-4f03-9fbc-3267e58a3cb7",
   "metadata": {
    "tags": []
   },
   "outputs": [],
   "source": [
    "'''\n",
    "Dummy Matrix\n",
    "1 marks non-missing values\n",
    "0 marks missing values\n",
    "We create this matrix so that our algorithm knows which values need to be imputed\n",
    "'''\n",
    "D = train.copy()\n",
    "D[outcome].replace(0, np.nan, inplace=True)\n",
    "D = D.where(~D. notna(), 1)\n",
    "D = D.fillna(0)\n",
    "D = D.astype('int')\n",
    "# This code is necessary so that the outcome column is not replaced with dummies\n",
    "D[outcome].replace(0, 'zero', inplace=True)\n",
    "Dmissing = D[(D == 0).any(axis=1)]\n",
    "D[outcome].replace(0, np.nan, inplace=True)"
   ]
  },
  {
   "cell_type": "code",
   "execution_count": 52,
   "id": "28291c2b-6f31-4744-8872-73fdccb6f7cf",
   "metadata": {},
   "outputs": [],
   "source": [
    "'''\n",
    "NOTE: Instead of imputing pure means and modes, we should use Naveen's method of statistical imputation initially...\n",
    "...And then, we can run this algorithm\n",
    "\n",
    "Here, we calculate the mean for continuous columns and the mode for categorical columns\n",
    "\n",
    "We need the means and modes to impute the columns initially\n",
    "'''\n",
    "\n",
    "def mean(column, mx):\n",
    "    mx[column].fillna(mx[column].mean(),inplace=True)\n",
    "\n",
    "def mode(column,mx):\n",
    "    mx[column].fillna(mx[column].mode()[0],inplace=True)\n",
    "\n",
    "for i in train:\n",
    "    if i in categorical:\n",
    "        mode(i, train)\n",
    "    elif i in continuous:\n",
    "        mean(i, train)"
   ]
  },
  {
   "cell_type": "code",
   "execution_count": 53,
   "id": "f33f6ef0-fa55-48d9-9042-379932fba718",
   "metadata": {},
   "outputs": [],
   "source": [
    "# makes all categorical columns into type string so that categories that are really floats do not get treated as floats\n",
    "for i in train:\n",
    "    if i in categorical:\n",
    "        train[i] = train[i].astype('string')"
   ]
  },
  {
   "cell_type": "code",
   "execution_count": 54,
   "id": "db7bf53a-0c94-4828-9bcd-8c8434b87ef6",
   "metadata": {},
   "outputs": [],
   "source": [
    "# here, we define X as our matrix minus the outcome column\n",
    "# e also define Y, the outcome variables, so we can add Y back onto our matrix after imputation\n",
    "\n",
    "Y = train[outcome]\n",
    "X = train.drop(columns=outcome)\n",
    "r, c = X.shape"
   ]
  },
  {
   "cell_type": "code",
   "execution_count": 55,
   "id": "025d8839-4a56-48f5-9fab-de7eb3144a88",
   "metadata": {},
   "outputs": [
    {
     "name": "stderr",
     "output_type": "stream",
     "text": [
      "/var/folders/6x/ywf8k3wj7yz_mz75ldv7kt7r0000gn/T/ipykernel_12802/2133277231.py:6: SettingWithCopyWarning: \n",
      "A value is trying to be set on a copy of a slice from a DataFrame.\n",
      "Try using .loc[row_indexer,col_indexer] = value instead\n",
      "\n",
      "See the caveats in the documentation: https://pandas.pydata.org/pandas-docs/stable/user_guide/indexing.html#returning-a-view-versus-a-copy\n",
      "  Dmissing['index'] = Dmissing.index\n"
     ]
    }
   ],
   "source": [
    "# convert pandas dataframes to numpy arrays for faster processing\n",
    "Dnp = D.to_numpy()\n",
    "Xnp = X.to_numpy()\n",
    "\n",
    "# define rows that have missing data\n",
    "Dmissing['index'] = Dmissing.index\n",
    "Dmissingnp = Dmissing.to_numpy() # need for get_all_neighbors()\n",
    "missing_indices = Dmissing['index'].to_list() # need for get_all_neighbors()"
   ]
  },
  {
   "cell_type": "markdown",
   "id": "162a3605-192e-40e0-9ce2-b2cac77331ec",
   "metadata": {},
   "source": [
    "THE IMPLEMENTATION OF IKNN STARTS HERE"
   ]
  },
  {
   "cell_type": "code",
   "execution_count": 56,
   "id": "47e6e34a-ae37-4fba-ab3e-6b13fddb45ef",
   "metadata": {},
   "outputs": [],
   "source": [
    "# Here, we define K as the square root of the number of rows (arbitrary - we could refine this with cross-validation)\n",
    "num_neighbors = int(len(Xnp)**(1/2))\n",
    "if num_neighbors%2 == 0: # to ensure num_neigbors is always odd\n",
    "    num_neighbors -= 1"
   ]
  },
  {
   "cell_type": "markdown",
   "id": "a4413ea0-65c3-435d-8ab7-747a93b60f62",
   "metadata": {},
   "source": [
    "These next three functions help us get the nearest neighbors, as defined by the HEOM metric for mixed data, for all rows with missing data "
   ]
  },
  {
   "cell_type": "code",
   "execution_count": 57,
   "id": "dee8f282-9d53-42bc-9c93-36b6f8c8c9d5",
   "metadata": {
    "tags": []
   },
   "outputs": [],
   "source": [
    "def HEOM(rowindex1, rowindex2, featurenumber, X, D): \n",
    "    '''\n",
    "    Heterogeneous Euclidean Overlap Metric (Batista and Monard, 2003)\n",
    "    Takes two rows with mixed data as inputs and returns the \"distance\" between them\n",
    "    \n",
    "    The distance between two values is between 0 and 1, inclusive\n",
    "    \n",
    "    We use this metric instead of a simple algebraic metric because we have categorical variables\n",
    "    '''\n",
    "    distance = 0\n",
    "    for i in range(0, featurenumber): #for each column\n",
    "        if D[rowindex1, i] * D[rowindex2, i] == 0: #if one of the values is missing\n",
    "            distance+=1\n",
    "        if type(X[rowindex1, i]) != str:\n",
    "            distance += ((X[rowindex1, i] - X[rowindex2, i])/(maxmin.get(i)[0]-maxmin.get(i)[1]))**2\n",
    "        else: #for categorical variables\n",
    "            if X[rowindex1, i] == X[rowindex2, i]:\n",
    "                distance += 0\n",
    "            else:\n",
    "                distance += 1\n",
    "    return math.sqrt(distance) #returns the HEOM distance between two rows"
   ]
  },
  {
   "cell_type": "code",
   "execution_count": 58,
   "id": "a46b1037-7c70-45c8-a7f9-db5064bbea42",
   "metadata": {},
   "outputs": [],
   "source": [
    "def get_neighbors(test_row, num_neighbors, X, D):\n",
    "    '''\n",
    "    Returns the k-nearest neighbors for a given test row\n",
    "    '''\n",
    "    r, c = X.shape\n",
    "    distances = list()\n",
    "    for row in range(0, r): #creates a list of distances for a given row\n",
    "        if test_row != row:\n",
    "            dist = HEOM(test_row, row, c, X, D)\n",
    "            distances.append((dist, row))\n",
    "    return heapq.nsmallest(num_neighbors,distances) #returns the distances ordered from smallest to biggest"
   ]
  },
  {
   "cell_type": "code",
   "execution_count": 59,
   "id": "fb35f94d-f8a2-46c8-afba-9acc6f93629b",
   "metadata": {},
   "outputs": [],
   "source": [
    "def get_all_neighbors(num_neighbors, missing, Xnp, Dnp):\n",
    "    '''\n",
    "    Returns a dict of the k-nearest neighbors for all missing rows in a test set\n",
    "    '''\n",
    "    neighbors = {}\n",
    "    for test_row in missing: #computes the previous function for all rows\n",
    "        neighbors[test_row] = get_neighbors(test_row, num_neighbors, Xnp, Dnp)\n",
    "        #if test_row > 15: # COMMENT THIS OUT WHEN READY TO COMPUTE ALL NEIGHBORS\n",
    "            #return neighbors\n",
    "    return neighbors #returns a dictionary"
   ]
  },
  {
   "cell_type": "markdown",
   "id": "b0f8772f-23d8-4ce8-9b01-2c22b764b2e6",
   "metadata": {},
   "source": [
    "The next three functions give us the \"weights\" of each neighbor. Neighbors that are more similar to the test row give higher weights, and thus are given higher consideration when choosing the value to be imputed"
   ]
  },
  {
   "cell_type": "markdown",
   "id": "376b8cb1-64bd-4243-b139-f468d9f465d7",
   "metadata": {},
   "source": [
    "See paper (equations 11 and 12) to understand the following functions"
   ]
  },
  {
   "cell_type": "code",
   "execution_count": 60,
   "id": "a1e3e15e-b0f5-4afc-b13d-43b2c12137a7",
   "metadata": {},
   "outputs": [],
   "source": [
    "def calculatekW(missingIndexR, neighbors):\n",
    "    '''\n",
    "    For continuous variables\n",
    "    Returns 1/kW, one over the sum of the weights times times the number of neighbors\n",
    "    '''\n",
    "    W = 0\n",
    "    for i in neighbors.get(missingIndexR):\n",
    "        if i[0] != 0:\n",
    "            W += 1/(i[0]**2)\n",
    "    return 1/(num_neighbors*W)"
   ]
  },
  {
   "cell_type": "code",
   "execution_count": 61,
   "id": "746f3ca3-05ac-46b0-b668-96cdeb63da81",
   "metadata": {},
   "outputs": [],
   "source": [
    "def calculateRHS(missingIndexR, missingIndexC, neighbors):\n",
    "    '''\n",
    "    For continuous variables\n",
    "    Returns the sum of the weight times the neighbor's cell value for all neighbors\n",
    "    '''\n",
    "    RHS = 0\n",
    "    for i in neighbors.get(missingIndexR):\n",
    "        if i[0] != 0:\n",
    "            wl = 1/(i[0]**2)\n",
    "        else:\n",
    "            wl = 1\n",
    "        matching_row = i[1]\n",
    "        neighbor_value = Xnp[matching_row, missingIndexC]\n",
    "        RHS += neighbor_value*wl\n",
    "    return RHS"
   ]
  },
  {
   "cell_type": "code",
   "execution_count": 62,
   "id": "f3609028-fc5a-4c8a-9850-12ffd76ac396",
   "metadata": {},
   "outputs": [],
   "source": [
    "def weights(missingIndexR, missingIndexC, neighbors):\n",
    "    '''\n",
    "    For categorical neighbors\n",
    "    Returns weights for each neighbor with row index\n",
    "    '''\n",
    "    weighted_distances = list()\n",
    "    for i in neighbors.get(missingIndexR):\n",
    "        numer = neighbors[missingIndexR][-1][0] - i[0]\n",
    "        denom = neighbors[missingIndexR][-1][0] - neighbors[missingIndexR][0][0] #(last - first)\n",
    "        if denom != 0:\n",
    "            weighted_distances.append(((numer/denom)*i[0],i[1]))\n",
    "        else:\n",
    "            weighted_distances.append((numer*i[0], i[1])) #set denom to 1\n",
    "    return weighted_distances"
   ]
  },
  {
   "cell_type": "code",
   "execution_count": 63,
   "id": "0440f121-8f9a-4f38-9bcb-b394e6d34d90",
   "metadata": {},
   "outputs": [],
   "source": [
    "def categories(missingIndexR, missingIndexC, neighbors):\n",
    "    '''\n",
    "    For categorical neighbors\n",
    "    Returns category to be imputed\n",
    "    '''\n",
    "    categories = {}\n",
    "    my_weights = weights(missingIndexR, missingIndexC, neighbors)\n",
    "    for weight in my_weights:\n",
    "        if Xnp[weight[1], missingIndexC] not in categories.keys():\n",
    "            categories[Xnp[weight[1], missingIndexC]] = weight[0]\n",
    "        else:\n",
    "            categories[Xnp[weight[1], missingIndexC]] += weight[0]\n",
    "    return max(categories, key=categories.get)"
   ]
  },
  {
   "cell_type": "markdown",
   "id": "04177990-52be-4e7c-b6a0-846fdd54024d",
   "metadata": {},
   "source": [
    "The following function uses the previous four functions to determine the value to be imputed"
   ]
  },
  {
   "cell_type": "code",
   "execution_count": 64,
   "id": "4da02008-c6eb-45b4-a668-055be98f5f40",
   "metadata": {},
   "outputs": [],
   "source": [
    "def imputeValue(missingIndexR, missingIndexC, neighbors):\n",
    "    '''\n",
    "    Returns the value to be imputed for a single missing value\n",
    "    '''\n",
    "    if neighbors.get(missingIndexR) != None:\n",
    "        if type(X.iloc[missingIndexR, missingIndexC]) != str: # for float variables\n",
    "            return num_neighbors*calculatekW(missingIndexR, neighbors)*calculateRHS(missingIndexR, missingIndexC, neighbors)\n",
    "            # uses previous functions to determine the value to be imputed multiplied by the appropriate weights\n",
    "        else: # for categorical variables, which are all of type str\n",
    "            return categories(missingIndexR, missingIndexC, neighbors)\n",
    "    else:\n",
    "        raise ValueError(\"Finish computing neighbors. The last row was not actually imputed.\")"
   ]
  },
  {
   "cell_type": "markdown",
   "id": "ea6f2e69-12e0-4cf7-a073-5b8e32d151a3",
   "metadata": {},
   "source": [
    "The following two functions give us the values that are missing and need to be imputed"
   ]
  },
  {
   "cell_type": "code",
   "execution_count": 65,
   "id": "a63deb15-468c-4db6-8565-6f12fb138b28",
   "metadata": {
    "tags": []
   },
   "outputs": [],
   "source": [
    "def getIndicesToImpute(Dmissingnprow):\n",
    "    '''\n",
    "    Gets all indices to impute in a single row\n",
    "    '''\n",
    "    indices = list()\n",
    "    for i in range(len(Dmissingnprow)-1): #-1 to avoid index column\n",
    "        if Dmissingnprow[i] == 0:\n",
    "            indices.append(i)\n",
    "        Xindex = Dmissingnprow[-1] #-1 gets the index column\n",
    "    return (Xindex, indices) #returns the outcome column and the indices that need to be imputed"
   ]
  },
  {
   "cell_type": "code",
   "execution_count": 66,
   "id": "d1f00b67-9f43-4e0f-8ba2-19bdcbc8c953",
   "metadata": {},
   "outputs": [],
   "source": [
    "def getAllIndiciesToImpute(Xnp, Dmissingnp):\n",
    "    '''\n",
    "    Gets all indicies to impute in all rows\n",
    "    Returns a list of tuples with (row_index, column indexes to impute)\n",
    "    '''\n",
    "    IndicesToImputeRow = list()\n",
    "    count = 0\n",
    "    for i in Dmissingnp:\n",
    "        IndicesToImputeRow.append(getIndicesToImpute(i)) #calls previous function to retrieve the proper indices\n",
    "    IndicesToImputeRow\n",
    "    return IndicesToImputeRow"
   ]
  },
  {
   "cell_type": "code",
   "execution_count": 67,
   "id": "a40e98e2-b696-4c3e-979a-ccea6f5e6db2",
   "metadata": {},
   "outputs": [],
   "source": [
    "def impute(Xnp, Dmissingnp, neighbors):\n",
    "    '''\n",
    "    Imputes all missing values\n",
    "    Must compute all neighbors before running this - this function does not recompute neighbors\n",
    "    '''\n",
    "    Xnp1 = Xnp.copy()\n",
    "    count = 0\n",
    "    for i in getAllIndiciesToImpute(Xnp, Dmissingnp):\n",
    "        for j in i[1]:\n",
    "            Xnp1[i[0], j] = imputeValue(i[0], j, neighbors)\n",
    "            count+=1\n",
    "        #print(\"row imputed #\" + str(count))\n",
    "        #print(\"imputed: r \" + str(i[0]) + \"; \" + \"c \" + str(j))\n",
    "        #print()\n",
    "    return (Xnp1, Xnp) #returns new matrix and the old one"
   ]
  },
  {
   "cell_type": "code",
   "execution_count": 68,
   "id": "cf765ef9-a3e1-4be4-8083-38961dd0b4dc",
   "metadata": {
    "tags": []
   },
   "outputs": [],
   "source": [
    "def maxDiff(new, old):\n",
    "    '''\n",
    "    This function will calculate the maximum difference between imputed matrix X1 and imputed matrix X2\n",
    "    \n",
    "    Uses the HEOM metric to compute this value for the entire matrix\n",
    "    '''\n",
    "    diff = []\n",
    "    r, c = old.shape\n",
    "    for i in range(0, c): #for each column\n",
    "        for j in range(0, r): #for each row\n",
    "            if type(old[j, i]) != str: #for floats\n",
    "                diff.append(math.sqrt(((old[j, i] - new[j, i])/(maxmin.get(i)[0]-maxmin.get(i)[1]))**2))\n",
    "            else: #for categorical variables\n",
    "                if old[j, i] == new[j, i]:\n",
    "                    diff.append(0)\n",
    "                else:\n",
    "                    diff.append(1)\n",
    "    print(\"Max difference: \" + str(float(max(diff))))\n",
    "    #print()\n",
    "    return max(diff)"
   ]
  },
  {
   "cell_type": "code",
   "execution_count": 69,
   "id": "250a7aed-c845-4d9e-b149-b8718b823927",
   "metadata": {},
   "outputs": [],
   "source": [
    "def plot(iteration,values):\n",
    "    plt.plot(iteration,values,color='red',marker='o')\n",
    "    plt.title('HEOM Max Difference Function')\n",
    "    plt.xlabel('Iteration')\n",
    "    plt.ylabel('Max difference')\n",
    "    plt.show()"
   ]
  },
  {
   "cell_type": "code",
   "execution_count": 70,
   "id": "4d24a29e-9418-47e0-b026-5855cdba1cd5",
   "metadata": {},
   "outputs": [],
   "source": [
    "global myIteration\n",
    "global myValues\n",
    "myIteration = [0]\n",
    "myValues = [1]"
   ]
  },
  {
   "cell_type": "code",
   "execution_count": 72,
   "id": "55be2833-460a-40ee-be2d-03902f8d76c3",
   "metadata": {
    "tags": []
   },
   "outputs": [],
   "source": [
    "def iterate(Xnp, Dnp):\n",
    "    '''\n",
    "    Now, we have to iteratively impute until the stopping criteria is reached\n",
    "    \n",
    "    Note: this code will compute neighbors\n",
    "    \n",
    "    Returns: the new matrix (with imputed values), the old matrix, and the values that were imputed\n",
    "    '''\n",
    "    r, c = Xnp.shape\n",
    "    \n",
    "    if 0 in Dnp: # this is so we only print for the first iteration\n",
    "        print('Data that was input:')\n",
    "        print(train_copy)\n",
    "        print()\n",
    "        print('Data with initial statistical imputation:')\n",
    "        print(train)\n",
    "    \n",
    "    #Determines the maximum and minimum value of each column\n",
    "    global maxmin\n",
    "    maxmin = {}\n",
    "    for i in range(0, c):\n",
    "        maxi = Xnp[:,i].max()\n",
    "        mini = Xnp[:,i].min()\n",
    "        maxmin[i] = (maxi, mini)\n",
    "    \n",
    "    global neighbors\n",
    "    neighbors = get_all_neighbors(num_neighbors, missing_indices, Xnp, Dnp)\n",
    "    \n",
    "    print()\n",
    "    print(\"*************\")\n",
    "    print(\"NEW ITERATION\")\n",
    "    print(\"*************\")\n",
    "    print()\n",
    "    print(\"Neighbors finished computing\")\n",
    "    print()\n",
    "    \n",
    "    #gets the new data\n",
    "    new, old = impute(Xnp, Dmissingnp, neighbors)\n",
    "    \n",
    "    #gets the max difference between the new data and the previous one\n",
    "    diff = maxDiff(new, old)\n",
    "    \n",
    "    #plots\n",
    "    myIteration.append(1+myIteration[-1])\n",
    "    myValues.append(diff)\n",
    "    plot(myIteration,myValues)\n",
    "\n",
    "    #on iterations after 1st, change D to only 1s so that the HEOM metric is not treating any of the values as missing\n",
    "    newD = np.where(Dnp == 0, 1, Dnp)\n",
    "    \n",
    "    #if the max difference is greater than a certain threshold, iterate\n",
    "    if diff >= 10**-4:\n",
    "        #print('Imputed data:')\n",
    "        #print(new)\n",
    "        print(\"Don't close program...Extracting iteration to Excel...\")\n",
    "        export = pd.DataFrame(new)\n",
    "        #export.to_csv(r\"C:\\Users\\bhodge1\\OneDrive - Lenovo\\Desktop\\titanic\\trainnew.csv\",index=False)\n",
    "        if (len(myValues) > 1) & (myValues[-1] == myValues[-2]):\n",
    "            print('No change')\n",
    "            return\n",
    "        new,old = iterate(new, newD) #now, we are repeating the process for the newly generated data\n",
    "    else:\n",
    "        print(\"*************\")\n",
    "        #print('FINAL Imputed data:')\n",
    "        print(\"Don't close program...Extracting FINAL to Excel...\")\n",
    "        export = pd.DataFrame(new)\n",
    "        #export.to_csv(r\"C:\\Users\\bhodge1\\OneDrive - Lenovo\\Desktop\\titanic\\trainfinal.csv\",index=False)\n",
    "        #print(new)\n",
    "\n",
    "    #returns new, the final data, and old, the initial data\n",
    "    return new, old"
   ]
  },
  {
   "cell_type": "code",
   "execution_count": 73,
   "id": "1b79138e-2510-4ed4-bfb6-0c4938218208",
   "metadata": {
    "tags": []
   },
   "outputs": [
    {
     "name": "stdout",
     "output_type": "stream",
     "text": [
      "Data that was input:\n",
      "     PassengerId  Survived  Pclass  \\\n",
      "0              1         0       3   \n",
      "1              2         1       1   \n",
      "2              3         1       3   \n",
      "3              4         1       1   \n",
      "4              5         0       3   \n",
      "..           ...       ...     ...   \n",
      "886          887         0       2   \n",
      "887          888         1       1   \n",
      "888          889         0       3   \n",
      "889          890         1       1   \n",
      "890          891         0       3   \n",
      "\n",
      "                                                  Name     Sex   Age  SibSp  \\\n",
      "0                              Braund, Mr. Owen Harris    male  22.0      1   \n",
      "1    Cumings, Mrs. John Bradley (Florence Briggs Th...  female  38.0      1   \n",
      "2                               Heikkinen, Miss. Laina  female  26.0      0   \n",
      "3         Futrelle, Mrs. Jacques Heath (Lily May Peel)  female  35.0      1   \n",
      "4                             Allen, Mr. William Henry    male  35.0      0   \n",
      "..                                                 ...     ...   ...    ...   \n",
      "886                              Montvila, Rev. Juozas    male  27.0      0   \n",
      "887                       Graham, Miss. Margaret Edith  female  19.0      0   \n",
      "888           Johnston, Miss. Catherine Helen \"Carrie\"  female   NaN      1   \n",
      "889                              Behr, Mr. Karl Howell    male  26.0      0   \n",
      "890                                Dooley, Mr. Patrick    male  32.0      0   \n",
      "\n",
      "     Parch            Ticket     Fare Cabin Embarked  \n",
      "0        0         A/5 21171   7.2500   NaN        S  \n",
      "1        0          PC 17599  71.2833   C85        C  \n",
      "2        0  STON/O2. 3101282   7.9250   NaN        S  \n",
      "3        0            113803  53.1000  C123        S  \n",
      "4        0            373450   8.0500   NaN        S  \n",
      "..     ...               ...      ...   ...      ...  \n",
      "886      0            211536  13.0000   NaN        S  \n",
      "887      0            112053  30.0000   B42        S  \n",
      "888      2        W./C. 6607  23.4500   NaN        S  \n",
      "889      0            111369  30.0000  C148        C  \n",
      "890      0            370376   7.7500   NaN        Q  \n",
      "\n",
      "[891 rows x 12 columns]\n",
      "\n",
      "Data with initial statistical imputation:\n",
      "    PassengerId Pclass                                               Name  \\\n",
      "0             1      3                            Braund, Mr. Owen Harris   \n",
      "1             2      1  Cumings, Mrs. John Bradley (Florence Briggs Th...   \n",
      "2             3      3                             Heikkinen, Miss. Laina   \n",
      "3             4      1       Futrelle, Mrs. Jacques Heath (Lily May Peel)   \n",
      "4             5      3                           Allen, Mr. William Henry   \n",
      "..          ...    ...                                                ...   \n",
      "886         887      2                              Montvila, Rev. Juozas   \n",
      "887         888      1                       Graham, Miss. Margaret Edith   \n",
      "888         889      3           Johnston, Miss. Catherine Helen \"Carrie\"   \n",
      "889         890      1                              Behr, Mr. Karl Howell   \n",
      "890         891      3                                Dooley, Mr. Patrick   \n",
      "\n",
      "        Sex        Age SibSp Parch            Ticket     Fare Embarked  \\\n",
      "0      male  22.000000     1     0         A/5 21171   7.2500        S   \n",
      "1    female  38.000000     1     0          PC 17599  71.2833        C   \n",
      "2    female  26.000000     0     0  STON/O2. 3101282   7.9250        S   \n",
      "3    female  35.000000     1     0            113803  53.1000        S   \n",
      "4      male  35.000000     0     0            373450   8.0500        S   \n",
      "..      ...        ...   ...   ...               ...      ...      ...   \n",
      "886    male  27.000000     0     0            211536  13.0000        S   \n",
      "887  female  19.000000     0     0            112053  30.0000        S   \n",
      "888  female  29.699118     1     2        W./C. 6607  23.4500        S   \n",
      "889    male  26.000000     0     0            111369  30.0000        C   \n",
      "890    male  32.000000     0     0            370376   7.7500        Q   \n",
      "\n",
      "     Survived  \n",
      "0           0  \n",
      "1           1  \n",
      "2           1  \n",
      "3           1  \n",
      "4           0  \n",
      "..        ...  \n",
      "886         0  \n",
      "887         1  \n",
      "888         0  \n",
      "889         1  \n",
      "890         0  \n",
      "\n",
      "[891 rows x 11 columns]\n",
      "\n",
      "*************\n",
      "NEW ITERATION\n",
      "*************\n",
      "\n",
      "Neighbors finished computing\n",
      "\n",
      "Max difference: 0.1399853837187822\n"
     ]
    },
    {
     "data": {
      "image/png": "[encoded data removed]",
      "text/plain": [
       "<Figure size 432x288 with 1 Axes>"
      ]
     },
     "metadata": {
      "needs_background": "light"
     },
     "output_type": "display_data"
    },
    {
     "name": "stdout",
     "output_type": "stream",
     "text": [
      "Don't close program...Extracting iteration to Excel...\n",
      "\n",
      "*************\n",
      "NEW ITERATION\n",
      "*************\n",
      "\n",
      "Neighbors finished computing\n",
      "\n",
      "Max difference: 0.023876865071436472\n"
     ]
    },
    {
     "data": {
      "image/png": "[encoded data removed]",
      "text/plain": [
       "<Figure size 432x288 with 1 Axes>"
      ]
     },
     "metadata": {
      "needs_background": "light"
     },
     "output_type": "display_data"
    },
    {
     "name": "stdout",
     "output_type": "stream",
     "text": [
      "Don't close program...Extracting iteration to Excel...\n",
      "\n",
      "*************\n",
      "NEW ITERATION\n",
      "*************\n",
      "\n",
      "Neighbors finished computing\n",
      "\n",
      "Max difference: 0.0180403211680384\n"
     ]
    },
    {
     "data": {
      "image/png": "[encoded data removed]",
      "text/plain": [
       "<Figure size 432x288 with 1 Axes>"
      ]
     },
     "metadata": {
      "needs_background": "light"
     },
     "output_type": "display_data"
    },
    {
     "name": "stdout",
     "output_type": "stream",
     "text": [
      "Don't close program...Extracting iteration to Excel...\n",
      "\n",
      "*************\n",
      "NEW ITERATION\n",
      "*************\n",
      "\n",
      "Neighbors finished computing\n",
      "\n",
      "Max difference: 0.004975505408091769\n"
     ]
    },
    {
     "data": {
      "image/png": "[encoded data removed]",
      "text/plain": [
       "<Figure size 432x288 with 1 Axes>"
      ]
     },
     "metadata": {
      "needs_background": "light"
     },
     "output_type": "display_data"
    },
    {
     "name": "stdout",
     "output_type": "stream",
     "text": [
      "Don't close program...Extracting iteration to Excel...\n",
      "\n",
      "*************\n",
      "NEW ITERATION\n",
      "*************\n",
      "\n",
      "Neighbors finished computing\n",
      "\n",
      "Max difference: 0.005315561852974836\n"
     ]
    },
    {
     "data": {
      "image/png": "[encoded data removed]",
      "text/plain": [
       "<Figure size 432x288 with 1 Axes>"
      ]
     },
     "metadata": {
      "needs_background": "light"
     },
     "output_type": "display_data"
    },
    {
     "name": "stdout",
     "output_type": "stream",
     "text": [
      "Don't close program...Extracting iteration to Excel...\n",
      "\n",
      "*************\n",
      "NEW ITERATION\n",
      "*************\n",
      "\n",
      "Neighbors finished computing\n",
      "\n",
      "Max difference: 0.0026620983494440296\n"
     ]
    },
    {
     "data": {
      "image/png": "[encoded data removed]",
      "text/plain": [
       "<Figure size 432x288 with 1 Axes>"
      ]
     },
     "metadata": {
      "needs_background": "light"
     },
     "output_type": "display_data"
    },
    {
     "name": "stdout",
     "output_type": "stream",
     "text": [
      "Don't close program...Extracting iteration to Excel...\n",
      "\n",
      "*************\n",
      "NEW ITERATION\n",
      "*************\n",
      "\n",
      "Neighbors finished computing\n",
      "\n",
      "Max difference: 0.0003429770739246327\n"
     ]
    },
    {
     "data": {
      "image/png": "[encoded data removed]",
      "text/plain": [
       "<Figure size 432x288 with 1 Axes>"
      ]
     },
     "metadata": {
      "needs_background": "light"
     },
     "output_type": "display_data"
    },
    {
     "name": "stdout",
     "output_type": "stream",
     "text": [
      "Don't close program...Extracting iteration to Excel...\n",
      "\n",
      "*************\n",
      "NEW ITERATION\n",
      "*************\n",
      "\n",
      "Neighbors finished computing\n",
      "\n",
      "Max difference: 2.938733366898327e-06\n"
     ]
    },
    {
     "data": {
      "image/png": "[encoded data removed]",
      "text/plain": [
       "<Figure size 432x288 with 1 Axes>"
      ]
     },
     "metadata": {
      "needs_background": "light"
     },
     "output_type": "display_data"
    },
    {
     "name": "stdout",
     "output_type": "stream",
     "text": [
      "*************\n",
      "Don't close program...Extracting FINAL to Excel...\n"
     ]
    }
   ],
   "source": [
    "new, old = iterate(Xnp, Dnp)"
   ]
  }
 ],
 "metadata": {
  "kernelspec": {
   "display_name": "Python 3 (ipykernel)",
   "language": "python",
   "name": "python3"
  },
  "language_info": {
   "codemirror_mode": {
    "name": "ipython",
    "version": 3
   },
   "file_extension": ".py",
   "mimetype": "text/x-python",
   "name": "python",
   "nbconvert_exporter": "python",
   "pygments_lexer": "ipython3",
   "version": "3.9.12"
  }
 },
 "nbformat": 4,
 "nbformat_minor": 5
}
